{
 "cells": [
  {
   "cell_type": "markdown",
   "metadata": {},
   "source": [
    "### Finger 3\n",
    "Considerando la siguiente información del set de datos\n",
    "\n",
    " - airlines.csv\n",
    " - airports.csv\n",
    " - flights.csv\n",
    "\n",
    "Se plantean los siguientes puntos a realizar:\n",
    "\n",
    " - Mostrar los 5 aeropuertos de origen que tienen mayor cantidad de cancelaciones.\n",
    " - Mostrar el nombre de aerolíneas y la cantidad de vuelos desde Atlanta (ATL) a Los Ángeles (LAX) ordenadas cantidad de vuelos\n",
    " - Mostrar y Analizar el Query Plan del punto 2 para entender las optimizaciones que realiza Catalyst Optimizer, contestando las siguientes preguntas:\n",
    " - ¿Se realiza alguna optimización lógica, como filter pushdown? ¿En qué etapa?\n",
    " - ¿Que tipo de Join Físico se realiza? ¿En qué etapa?\n"
   ]
  },
  {
   "cell_type": "code",
   "execution_count": 1,
   "metadata": {
    "collapsed": true
   },
   "outputs": [],
   "source": [
    "airlines_df = sqlContext.read.option('header','true').csv('../dataPractica/airlines.csv')\n",
    "airports_df = sqlContext.read.option('header','true').csv('../dataPractica/airports.csv')\n",
    "flights_df = sqlContext.read.option('header','true').csv('../dataPractica/flights.csv')"
   ]
  },
  {
   "cell_type": "code",
   "execution_count": 2,
   "metadata": {},
   "outputs": [
    {
     "data": {
      "text/plain": [
       "Row(IATA_CODE='UA', AIRLINE='United Air Lines Inc.')"
      ]
     },
     "execution_count": 2,
     "metadata": {},
     "output_type": "execute_result"
    }
   ],
   "source": [
    "##Conociendo los datos\n",
    "airlines_df.first()"
   ]
  },
  {
   "cell_type": "code",
   "execution_count": 3,
   "metadata": {},
   "outputs": [
    {
     "data": {
      "text/plain": [
       "DataFrame[summary: string, IATA_CODE: string, AIRPORT: string, CITY: string, STATE: string, COUNTRY: string, LATITUDE: string, LONGITUDE: string]"
      ]
     },
     "execution_count": 3,
     "metadata": {},
     "output_type": "execute_result"
    }
   ],
   "source": [
    "airports_df.describe()"
   ]
  },
  {
   "cell_type": "code",
   "execution_count": 4,
   "metadata": {},
   "outputs": [
    {
     "data": {
      "text/plain": [
       "['YEAR',\n",
       " 'MONTH',\n",
       " 'DAY',\n",
       " 'DAY_OF_WEEK',\n",
       " 'AIRLINE',\n",
       " 'FLIGHT_NUMBER',\n",
       " 'TAIL_NUMBER',\n",
       " 'ORIGIN_AIRPORT',\n",
       " 'DESTINATION_AIRPORT',\n",
       " 'SCHEDULED_DEPARTURE',\n",
       " 'DEPARTURE_TIME',\n",
       " 'DEPARTURE_DELAY',\n",
       " 'TAXI_OUT',\n",
       " 'WHEELS_OFF',\n",
       " 'SCHEDULED_TIME',\n",
       " 'ELAPSED_TIME',\n",
       " 'AIR_TIME',\n",
       " 'DISTANCE',\n",
       " 'WHEELS_ON',\n",
       " 'TAXI_IN',\n",
       " 'SCHEDULED_ARRIVAL',\n",
       " 'ARRIVAL_TIME',\n",
       " 'ARRIVAL_DELAY',\n",
       " 'DIVERTED',\n",
       " 'CANCELLED',\n",
       " 'CANCELLATION_REASON',\n",
       " 'AIR_SYSTEM_DELAY',\n",
       " 'SECURITY_DELAY',\n",
       " 'AIRLINE_DELAY',\n",
       " 'LATE_AIRCRAFT_DELAY',\n",
       " 'WEATHER_DELAY']"
      ]
     },
     "execution_count": 4,
     "metadata": {},
     "output_type": "execute_result"
    }
   ],
   "source": [
    "flights_df.columns"
   ]
  },
  {
   "cell_type": "code",
   "execution_count": 5,
   "metadata": {},
   "outputs": [
    {
     "data": {
      "text/plain": [
       "Row(YEAR='2015', MONTH='1', DAY='1', DAY_OF_WEEK='4', AIRLINE='AS', FLIGHT_NUMBER='98', TAIL_NUMBER='N407AS', ORIGIN_AIRPORT='ANC', DESTINATION_AIRPORT='SEA', SCHEDULED_DEPARTURE='0005', DEPARTURE_TIME='2354', DEPARTURE_DELAY='-11', TAXI_OUT='21', WHEELS_OFF='0015', SCHEDULED_TIME='205', ELAPSED_TIME='194', AIR_TIME='169', DISTANCE='1448', WHEELS_ON='0404', TAXI_IN='4', SCHEDULED_ARRIVAL='0430', ARRIVAL_TIME='0408', ARRIVAL_DELAY='-22', DIVERTED='0', CANCELLED='0', CANCELLATION_REASON=None, AIR_SYSTEM_DELAY=None, SECURITY_DELAY=None, AIRLINE_DELAY=None, LATE_AIRCRAFT_DELAY=None, WEATHER_DELAY=None)"
      ]
     },
     "execution_count": 5,
     "metadata": {},
     "output_type": "execute_result"
    }
   ],
   "source": [
    "flights_df.first()"
   ]
  },
  {
   "cell_type": "code",
   "execution_count": 6,
   "metadata": {
    "collapsed": true
   },
   "outputs": [],
   "source": [
    "#Creo las \"tablas\" estilo SQL\n",
    "flights_df.createOrReplaceTempView('flights')\n",
    "airlines_df.createOrReplaceTempView('airlines')\n",
    "airports_df.createOrReplaceTempView('airports')\n"
   ]
  },
  {
   "cell_type": "markdown",
   "metadata": {},
   "source": [
    "###  Mostrar los 5 aeropuertos de origen que tienen mayor cantidad de cancelaciones"
   ]
  },
  {
   "cell_type": "code",
   "execution_count": 7,
   "metadata": {},
   "outputs": [
    {
     "name": "stdout",
     "output_type": "stream",
     "text": [
      "+--------------------+--------------+------------------+\n",
      "|             AIRPORT|ORIGIN_AIRPORT|cant_cancelaciones|\n",
      "+--------------------+--------------+------------------+\n",
      "|Chicago O'Hare In...|           ORD|              8548|\n",
      "|Dallas/Fort Worth...|           DFW|              6254|\n",
      "|LaGuardia Airport...|           LGA|              4531|\n",
      "|Newark Liberty In...|           EWR|              3110|\n",
      "|Gen. Edward Lawre...|           BOS|              2654|\n",
      "+--------------------+--------------+------------------+\n",
      "\n"
     ]
    }
   ],
   "source": [
    "query_cancelaciones = 'SELECT A.AIRPORT, F.ORIGIN_AIRPORT, COUNT(*) as cant_cancelaciones\\\n",
    "                       FROM flights AS F\\\n",
    "                       INNER JOIN airports AS A\\\n",
    "                           ON F.ORIGIN_AIRPORT = A.IATA_CODE\\\n",
    "                       WHERE CANCELLED = 1\\\n",
    "                       GROUP BY A.AIRPORT, F.ORIGIN_AIRPORT\\\n",
    "                       ORDER BY cant_cancelaciones DESC\\\n",
    "                       LIMIT 5'\n",
    "\n",
    "vuelos_cancelados = spark.sql(query_cancelaciones).show()\n"
   ]
  },
  {
   "cell_type": "markdown",
   "metadata": {},
   "source": [
    "###  Mostrar el nombre de aerolíneas y la cantidad de vuelos desde Atlanta (ATL) a Los Ángeles (LAX) ordenadas cantidad de vuelos"
   ]
  },
  {
   "cell_type": "code",
   "execution_count": 8,
   "metadata": {},
   "outputs": [
    {
     "name": "stdout",
     "output_type": "stream",
     "text": [
      "+--------------------+-----------+\n",
      "|             AIRLINE|cant_vuelos|\n",
      "+--------------------+-----------+\n",
      "|Delta Air Lines Inc.|       3624|\n",
      "|Southwest Airline...|        962|\n",
      "|American Airlines...|        765|\n",
      "|Frontier Airlines...|        215|\n",
      "|    Spirit Air Lines|        103|\n",
      "+--------------------+-----------+\n",
      "\n"
     ]
    }
   ],
   "source": [
    "query_vuelos_atl_lax = \"SELECT A.AIRLINE, COUNT(*) as cant_vuelos\\\n",
    "                        FROM flights AS F\\\n",
    "                        INNER JOIN airlines AS A\\\n",
    "                            ON F.AIRLINE = A.IATA_CODE\\\n",
    "                        WHERE \\\n",
    "                            F.ORIGIN_AIRPORT = 'ATL' AND DESTINATION_AIRPORT = 'LAX'\\\n",
    "                        GROUP BY A.AIRLINE\\\n",
    "                        ORDER BY cant_vuelos DESC\"\n",
    "\n",
    "\n",
    "vuelos_atl_lax = spark.sql(query_vuelos_atl_lax)\n",
    "vuelos_atl_lax.show()"
   ]
  },
  {
   "cell_type": "markdown",
   "metadata": {},
   "source": [
    "### Mostrar y Analizar el Query Plan del punto 2 para entender las optimizaciones que realiza Catalyst Optimizer"
   ]
  },
  {
   "cell_type": "code",
   "execution_count": 9,
   "metadata": {},
   "outputs": [
    {
     "name": "stdout",
     "output_type": "stream",
     "text": [
      "== Parsed Logical Plan ==\n",
      "'Sort ['cant_vuelos DESC NULLS LAST], true\n",
      "+- 'Aggregate ['A.AIRLINE], ['A.AIRLINE, 'COUNT(1) AS cant_vuelos#624]\n",
      "   +- 'Filter (('F.ORIGIN_AIRPORT = ATL) && ('DESTINATION_AIRPORT = LAX))\n",
      "      +- 'Join Inner, ('F.AIRLINE = 'A.IATA_CODE)\n",
      "         :- 'SubqueryAlias F\n",
      "         :  +- 'UnresolvedRelation `flights`\n",
      "         +- 'SubqueryAlias A\n",
      "            +- 'UnresolvedRelation `airlines`\n",
      "\n",
      "== Analyzed Logical Plan ==\n",
      "AIRLINE: string, cant_vuelos: bigint\n",
      "Sort [cant_vuelos#624L DESC NULLS LAST], true\n",
      "+- Aggregate [AIRLINE#13], [AIRLINE#13, count(1) AS cant_vuelos#624L]\n",
      "   +- Filter ((ORIGIN_AIRPORT#63 = ATL) && (DESTINATION_AIRPORT#64 = LAX))\n",
      "      +- Join Inner, (AIRLINE#60 = IATA_CODE#12)\n",
      "         :- SubqueryAlias F\n",
      "         :  +- SubqueryAlias flights\n",
      "         :     +- Relation[YEAR#56,MONTH#57,DAY#58,DAY_OF_WEEK#59,AIRLINE#60,FLIGHT_NUMBER#61,TAIL_NUMBER#62,ORIGIN_AIRPORT#63,DESTINATION_AIRPORT#64,SCHEDULED_DEPARTURE#65,DEPARTURE_TIME#66,DEPARTURE_DELAY#67,TAXI_OUT#68,WHEELS_OFF#69,SCHEDULED_TIME#70,ELAPSED_TIME#71,AIR_TIME#72,DISTANCE#73,WHEELS_ON#74,TAXI_IN#75,SCHEDULED_ARRIVAL#76,ARRIVAL_TIME#77,ARRIVAL_DELAY#78,DIVERTED#79,... 7 more fields] csv\n",
      "         +- SubqueryAlias A\n",
      "            +- SubqueryAlias airlines\n",
      "               +- Relation[IATA_CODE#12,AIRLINE#13] csv\n",
      "\n",
      "== Optimized Logical Plan ==\n",
      "Sort [cant_vuelos#624L DESC NULLS LAST], true\n",
      "+- Aggregate [AIRLINE#13], [AIRLINE#13, count(1) AS cant_vuelos#624L]\n",
      "   +- Project [AIRLINE#13]\n",
      "      +- Join Inner, (AIRLINE#60 = IATA_CODE#12)\n",
      "         :- Project [AIRLINE#60]\n",
      "         :  +- Filter ((((isnotnull(ORIGIN_AIRPORT#63) && isnotnull(DESTINATION_AIRPORT#64)) && (ORIGIN_AIRPORT#63 = ATL)) && (DESTINATION_AIRPORT#64 = LAX)) && isnotnull(AIRLINE#60))\n",
      "         :     +- Relation[YEAR#56,MONTH#57,DAY#58,DAY_OF_WEEK#59,AIRLINE#60,FLIGHT_NUMBER#61,TAIL_NUMBER#62,ORIGIN_AIRPORT#63,DESTINATION_AIRPORT#64,SCHEDULED_DEPARTURE#65,DEPARTURE_TIME#66,DEPARTURE_DELAY#67,TAXI_OUT#68,WHEELS_OFF#69,SCHEDULED_TIME#70,ELAPSED_TIME#71,AIR_TIME#72,DISTANCE#73,WHEELS_ON#74,TAXI_IN#75,SCHEDULED_ARRIVAL#76,ARRIVAL_TIME#77,ARRIVAL_DELAY#78,DIVERTED#79,... 7 more fields] csv\n",
      "         +- Filter isnotnull(IATA_CODE#12)\n",
      "            +- Relation[IATA_CODE#12,AIRLINE#13] csv\n",
      "\n",
      "== Physical Plan ==\n",
      "*Sort [cant_vuelos#624L DESC NULLS LAST], true, 0\n",
      "+- Exchange rangepartitioning(cant_vuelos#624L DESC NULLS LAST, 200)\n",
      "   +- *HashAggregate(keys=[AIRLINE#13], functions=[count(1)], output=[AIRLINE#13, cant_vuelos#624L])\n",
      "      +- Exchange hashpartitioning(AIRLINE#13, 200)\n",
      "         +- *HashAggregate(keys=[AIRLINE#13], functions=[partial_count(1)], output=[AIRLINE#13, count#631L])\n",
      "            +- *Project [AIRLINE#13]\n",
      "               +- *BroadcastHashJoin [AIRLINE#60], [IATA_CODE#12], Inner, BuildRight\n",
      "                  :- *Project [AIRLINE#60]\n",
      "                  :  +- *Filter ((((isnotnull(ORIGIN_AIRPORT#63) && isnotnull(DESTINATION_AIRPORT#64)) && (ORIGIN_AIRPORT#63 = ATL)) && (DESTINATION_AIRPORT#64 = LAX)) && isnotnull(AIRLINE#60))\n",
      "                  :     +- *FileScan csv [AIRLINE#60,ORIGIN_AIRPORT#63,DESTINATION_AIRPORT#64] Batched: false, Format: CSV, Location: InMemoryFileIndex[file:/home/nico/Datos 2018/dataPractica/flights.csv], PartitionFilters: [], PushedFilters: [IsNotNull(ORIGIN_AIRPORT), IsNotNull(DESTINATION_AIRPORT), EqualTo(ORIGIN_AIRPORT,ATL), EqualTo(..., ReadSchema: struct<AIRLINE:string,ORIGIN_AIRPORT:string,DESTINATION_AIRPORT:string>\n",
      "                  +- BroadcastExchange HashedRelationBroadcastMode(List(input[0, string, true]))\n",
      "                     +- *Project [IATA_CODE#12, AIRLINE#13]\n",
      "                        +- *Filter isnotnull(IATA_CODE#12)\n",
      "                           +- *FileScan csv [IATA_CODE#12,AIRLINE#13] Batched: false, Format: CSV, Location: InMemoryFileIndex[file:/home/nico/Datos 2018/dataPractica/airlines.csv], PartitionFilters: [], PushedFilters: [IsNotNull(IATA_CODE)], ReadSchema: struct<IATA_CODE:string,AIRLINE:string>\n"
     ]
    }
   ],
   "source": [
    "spark.sql(query_vuelos_atl_lax).explain(True)"
   ]
  },
  {
   "cell_type": "markdown",
   "metadata": {},
   "source": [
    "### ¿Se realiza alguna optimización lógica, como filter pushdown? ¿En qué etapa?\n",
    "Se realizan filter pushdowns filtrando valores nulos de las tablas a \"joinear\", en Optimized Logical Plan.\n",
    "También proyecta qué columnas utilizará de cada tabla, en la misma etapa.\n",
    "### ¿Que tipo de Join Físico se realiza? ¿En qué etapa?\n",
    "Termina reaizando un Broadcast Hash Join en la etapa de Physical Plan, por más que en la query se eligiera Inner Join."
   ]
  },
  {
   "cell_type": "code",
   "execution_count": null,
   "metadata": {
    "collapsed": true
   },
   "outputs": [],
   "source": []
  }
 ],
 "metadata": {
  "kernelspec": {
   "display_name": "Python 3",
   "language": "python",
   "name": "python3"
  },
  "language_info": {
   "codemirror_mode": {
    "name": "ipython",
    "version": 3
   },
   "file_extension": ".py",
   "mimetype": "text/x-python",
   "name": "python",
   "nbconvert_exporter": "python",
   "pygments_lexer": "ipython3",
   "version": "3.6.1"
  }
 },
 "nbformat": 4,
 "nbformat_minor": 2
}
