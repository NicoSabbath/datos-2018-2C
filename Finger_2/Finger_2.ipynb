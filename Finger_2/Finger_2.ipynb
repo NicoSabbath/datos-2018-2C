{
 "cells": [
  {
   "cell_type": "code",
   "execution_count": 8,
   "metadata": {},
   "outputs": [],
   "source": [
    "df = sqlContext.read.option(\"header\", \"true\").csv(\"../dataTP1/events.csv\")\n",
    "data = df.rdd"
   ]
  },
  {
   "cell_type": "markdown",
   "metadata": {},
   "source": [
    "### 1) Encontrar cuál es el tipo de evento predominante.\n"
   ]
  },
  {
   "cell_type": "code",
   "execution_count": 9,
   "metadata": {},
   "outputs": [
    {
     "data": {
      "text/plain": [
       "('viewed product', 528931)"
      ]
     },
     "execution_count": 9,
     "metadata": {},
     "output_type": "execute_result"
    }
   ],
   "source": [
    "data.map(lambda x: (x.event,1)).reduceByKey(lambda x,y: x + y).reduce(lambda x,y: x if x[1] > y[1] else y)"
   ]
  },
  {
   "cell_type": "markdown",
   "metadata": {},
   "source": [
    "### 2) Encontrar el Top 5 de dispositivos más visitados dentro de la categoría Smartphones."
   ]
  },
  {
   "cell_type": "code",
   "execution_count": 19,
   "metadata": {},
   "outputs": [
    {
     "data": {
      "text/plain": [
       "[(('2830.0', 'iPhone 6'), 4007),\n",
       " (('2829.0', 'iPhone 6'), 3466),\n",
       " (('2831.0', 'iPhone 6'), 3423),\n",
       " (('8443.0', 'Samsung Galaxy S7'), 3265),\n",
       " (('12758.0', 'Samsung Galaxy S8'), 2714)]"
      ]
     },
     "execution_count": 19,
     "metadata": {},
     "output_type": "execute_result"
    }
   ],
   "source": [
    "#Primero pensé en verificar que device_type sea Smartphone, pero leyendo un poco\n",
    "#dice que esta columna indica el tipo de dispositivo DESDE EL QUE SE ACCEDIÓ! No es lo que piden.\n",
    "\n",
    "#Si tengo en cuenta el sku (como en el finger 1), me devolvería los siguientes modelos\n",
    "data.filter(lambda x: x.event == 'viewed product').map(lambda x: ((x.sku,x.model), 1)).reduceByKey(lambda x,y: x+y).takeOrdered(5, key=lambda x: -x[1])"
   ]
  },
  {
   "cell_type": "code",
   "execution_count": 20,
   "metadata": {},
   "outputs": [
    {
     "data": {
      "text/plain": [
       "[('iPhone 6', 47538),\n",
       " ('iPhone 5s', 42045),\n",
       " ('iPhone 6S', 36930),\n",
       " ('iPhone 7', 26330),\n",
       " ('Samsung Galaxy S7 Edge', 23062)]"
      ]
     },
     "execution_count": 20,
     "metadata": {},
     "output_type": "execute_result"
    }
   ],
   "source": [
    "#Sin tener en cuenta el sku \n",
    "data.filter(lambda x:x.event == 'viewed product').map(lambda x:(x.model, 1)).reduceByKey(lambda x,y: x+y).takeOrdered(5, key=lambda x: -x[1])"
   ]
  },
  {
   "cell_type": "code",
   "execution_count": null,
   "metadata": {
    "collapsed": true
   },
   "outputs": [],
   "source": []
  }
 ],
 "metadata": {
  "kernelspec": {
   "display_name": "Python 3",
   "language": "python",
   "name": "python3"
  },
  "language_info": {
   "codemirror_mode": {
    "name": "ipython",
    "version": 3
   },
   "file_extension": ".py",
   "mimetype": "text/x-python",
   "name": "python",
   "nbconvert_exporter": "python",
   "pygments_lexer": "ipython3",
   "version": "3.6.1"
  }
 },
 "nbformat": 4,
 "nbformat_minor": 2
}
